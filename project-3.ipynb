{
 "cells": [
  {
   "cell_type": "code",
   "execution_count": 1,
   "metadata": {},
   "outputs": [
    {
     "name": "stdout",
     "output_type": "stream",
     "text": [
      "Requirement already satisfied: gensim in /opt/anaconda3/envs/is310/lib/python3.9/site-packages (4.3.3)\n",
      "Requirement already satisfied: numpy<2.0,>=1.18.5 in /opt/anaconda3/envs/is310/lib/python3.9/site-packages (from gensim) (1.26.4)\n",
      "Requirement already satisfied: scipy<1.14.0,>=1.7.0 in /opt/anaconda3/envs/is310/lib/python3.9/site-packages (from gensim) (1.13.1)\n",
      "Requirement already satisfied: smart-open>=1.8.1 in /opt/anaconda3/envs/is310/lib/python3.9/site-packages (from gensim) (7.0.4)\n",
      "Requirement already satisfied: wrapt in /opt/anaconda3/envs/is310/lib/python3.9/site-packages (from smart-open>=1.8.1->gensim) (1.16.0)\n"
     ]
    }
   ],
   "source": [
    "!pip install gensim\n"
   ]
  },
  {
   "cell_type": "code",
   "execution_count": 2,
   "metadata": {},
   "outputs": [],
   "source": [
    "import gensim\n",
    "\n",
    "import gensim.downloader"
   ]
  },
  {
   "cell_type": "markdown",
   "metadata": {},
   "source": [
    "Part 1: Word Embeddings"
   ]
  },
  {
   "cell_type": "code",
   "execution_count": 3,
   "metadata": {},
   "outputs": [
    {
     "name": "stdout",
     "output_type": "stream",
     "text": [
      "[==================================================] 100.0% 128.1/128.1MB downloaded\n",
      "[('cat', 0.8798074126243591), ('dogs', 0.8344309329986572), ('pet', 0.7449564337730408), ('puppy', 0.7236376404762268), ('horse', 0.7109653949737549), ('animal', 0.6817063093185425), ('pig', 0.655417263507843), ('boy', 0.6545307636260986), ('cats', 0.6471933126449585), ('rabbit', 0.6468630433082581)]\n",
      "0.87980753\n"
     ]
    }
   ],
   "source": [
    "# Load pre-trained Word2Vec model trained on wikipedia data\n",
    "\n",
    "model = gensim.downloader.load(\"glove-wiki-gigaword-100\")\n",
    "\n",
    "# Getting the vector for a word\n",
    "\n",
    "dog = model['dog']\n",
    "\n",
    "# Getting the most similar words\n",
    "\n",
    "print(model.most_similar('dog'))\n",
    "\n",
    "# Getting the similarity between two words\n",
    "\n",
    "print(model.similarity('dog', 'cat'))"
   ]
  },
  {
   "cell_type": "markdown",
   "metadata": {},
   "source": [
    "Part 1a"
   ]
  },
  {
   "cell_type": "code",
   "execution_count": 11,
   "metadata": {},
   "outputs": [
    {
     "name": "stdout",
     "output_type": "stream",
     "text": [
      "[('lemon', 0.8233426809310913), ('vinegar', 0.7732073068618774), ('lime', 0.7639415860176086), ('sauce', 0.7204378843307495), ('grapefruit', 0.7199090123176575), ('syrup', 0.7161567807197571), ('yogurt', 0.7134124040603638), ('soda', 0.7080042362213135), ('cream', 0.7028740048408508), ('sugar', 0.7018996477127075)]\n"
     ]
    }
   ],
   "source": [
    "\n",
    "#find the most similar words to a word of your choice. \n",
    "#Does the result make sense? Look up some of the words if you don't know them\n",
    "#Share and discuss with your group\n",
    "\n",
    "juice = model['juice']\n",
    "print(model.most_similar('juice'))"
   ]
  },
  {
   "cell_type": "markdown",
   "metadata": {},
   "source": [
    "Part 1a answer: The results make sense as they were all food-related, with most of the results being juice ingredients. Some of the results were other food items unrelated to juice."
   ]
  },
  {
   "cell_type": "code",
   "execution_count": 12,
   "metadata": {},
   "outputs": [
    {
     "name": "stdout",
     "output_type": "stream",
     "text": [
      "[('paris', 0.8827143311500549), ('france', 0.755802571773529), ('french', 0.7075165510177612), ('prohertrib', 0.6943174600601196), ('berlin', 0.6665561199188232), ('brussels', 0.6574430465698242), ('lyon', 0.6526200771331787), ('london', 0.64079749584198), ('le', 0.6403627991676331), ('strasbourg', 0.6346526145935059)]\n",
      "[('lowlanders', 0.4844588041305542), ('zebras', 0.45914992690086365), ('dicots', 0.45332765579223633), ('non-arabs', 0.45208773016929626), ('amerindians', 0.4478238821029663), ('buffalos', 0.4475123882293701), ('giraffes', 0.4466330111026764), ('bavarians', 0.4452260732650757), ('welshmen', 0.4440663158893585), ('dingos', 0.44403281807899475)]\n",
      "[('dogs', 0.8921768665313721), ('cats', 0.8814380764961243), ('dog', 0.7873795628547668), ('animals', 0.7512702345848083), ('pets', 0.7392118573188782), ('cows', 0.6835324168205261), ('pet', 0.679297685623169), ('horses', 0.6774964332580566), ('pigs', 0.6755765080451965), ('animal', 0.6683686971664429)]\n"
     ]
    }
   ],
   "source": [
    "\n",
    "#we can extract a \"capital vector\" by subtracting the vector for a country from the vector for its capital\n",
    "capital= model[\"berlin\"]-model['germany']\n",
    "\n",
    "fra_capital=model[\"france\"]+capital\n",
    "\n",
    "print(model.most_similar(fra_capital))\n",
    "\n",
    "#likewise, we can extract a \"plural vector\" by subtracting the vector for a singular noun from the vector for its plural\n",
    "plural=model[\"cats\"]-model[\"cat\"]\n",
    "\n",
    "print(model.most_similar(plural))\n",
    "\n",
    "#we can also add vectors together\n",
    "plural_dogs=model[\"dog\"]+plural\n",
    "\n",
    "print(model.most_similar(plural_dogs))"
   ]
  },
  {
   "cell_type": "code",
   "execution_count": 13,
   "metadata": {},
   "outputs": [
    {
     "name": "stdout",
     "output_type": "stream",
     "text": [
      "[('menstruating', 0.6102039813995361), ('miscarry', 0.5550354719161987), ('lactating', 0.542172908782959), ('pre-eclampsia', 0.5129693746566772), ('uterus', 0.5093088746070862), ('ovulating', 0.5070309042930603), ('miscarried', 0.5043483376502991), ('adoptee', 0.5012543201446533), ('comnena', 0.5012539625167847), ('pulecio', 0.500389039516449)]\n",
      "[('arsene', 0.4388486444950104), ('ancelotti', 0.42151397466659546), ('nistelrooy', 0.41140034794807434), ('strachan', 0.4089668393135071), ('rafa', 0.40728434920310974), ('technicals', 0.4060872495174408), ('allardyce', 0.4018688201904297), ('boss', 0.40107354521751404), ('rangers', 0.39962300658226013), ('utd', 0.3967454135417938)]\n"
     ]
    },
    {
     "data": {
      "text/plain": [
       "[('doctor', 0.8661209940910339),\n",
       " ('nurse', 0.7757077813148499),\n",
       " ('physician', 0.7128061652183533),\n",
       " ('woman', 0.7089030742645264),\n",
       " ('doctors', 0.6793617010116577),\n",
       " ('pregnant', 0.6787967085838318),\n",
       " ('patient', 0.6772218346595764),\n",
       " ('dentist', 0.6694242358207703),\n",
       " ('mother', 0.6586815714836121),\n",
       " ('medical', 0.6466937065124512)]"
      ]
     },
     "execution_count": 13,
     "metadata": {},
     "output_type": "execute_result"
    }
   ],
   "source": [
    "# this can be used to find examples of data bias in word embeddings\n",
    "\n",
    "# for example, we can find the most similar words to \"doctor\" and \"nurse\"\n",
    "\n",
    "gender=model[\"woman\"]-model[\"man\"]\n",
    "\n",
    "print(model.most_similar(gender))\n",
    "print(model.most_similar(-gender))\n",
    "\n",
    "model.most_similar(model[\"doctor\"]+gender)"
   ]
  },
  {
   "cell_type": "markdown",
   "metadata": {},
   "source": [
    "Part 1b"
   ]
  },
  {
   "cell_type": "code",
   "execution_count": 21,
   "metadata": {},
   "outputs": [
    {
     "name": "stdout",
     "output_type": "stream",
     "text": [
      "[('black', 0.48912182450294495), ('coloured', 0.4793228805065155), ('clad', 0.473660409450531), ('stained', 0.46707868576049805), ('maroon', 0.4585193991661072), ('purple', 0.450435608625412), ('colored', 0.44752559065818787), ('bearded', 0.4471698999404907), ('silvery', 0.42704635858535767), ('berets', 0.4262385368347168)]\n",
      "[('race', 0.5634858012199402), ('hockenheim', 0.5490911602973938), ('indycar', 0.541210949420929), ('monza', 0.5338013768196106), ('nürburgring', 0.5271561741828918), ('suzuka', 0.5216007828712463), ('races', 0.5000783205032349), ('nurburgring', 0.4993460774421692), ('irl', 0.49865472316741943), ('prix', 0.49588844180107117)]\n"
     ]
    },
    {
     "data": {
      "text/plain": [
       "[('business', 0.6699997186660767),\n",
       " ('black', 0.6332972645759583),\n",
       " ('corporate', 0.6016422510147095),\n",
       " ('businesses', 0.6013487577438354),\n",
       " ('small', 0.5787851810455322),\n",
       " ('industry', 0.5728737711906433),\n",
       " ('companies', 0.5677958726882935),\n",
       " ('large', 0.5675168037414551),\n",
       " ('private', 0.5619243383407593),\n",
       " ('clients', 0.5476332902908325)]"
      ]
     },
     "execution_count": 21,
     "metadata": {},
     "output_type": "execute_result"
    }
   ],
   "source": [
    "#try to isolate a specific dimension in the embeddings and add it to multiple words. \n",
    "#does this show any bias or assumptions in the data? \n",
    "# Discuss with your group and share most interesting dimension in the document\n",
    "\n",
    "race=model[\"black\"]-model[\"race\"]\n",
    "\n",
    "print(model.most_similar(race))\n",
    "print(model.most_similar(-race))\n",
    "\n",
    "model.most_similar(model[\"business\"]+race)"
   ]
  },
  {
   "cell_type": "markdown",
   "metadata": {},
   "source": [
    "Part 2: Visualization and Embeddings in Space"
   ]
  },
  {
   "cell_type": "code",
   "execution_count": 89,
   "metadata": {},
   "outputs": [
    {
     "data": {
      "image/png": "[encoded data removed]",
      "text/plain": [
       "<Figure size 640x480 with 1 Axes>"
      ]
     },
     "metadata": {},
     "output_type": "display_data"
    }
   ],
   "source": [
    "#visualize pca of word embeddings\n",
    "\n",
    "from sklearn.decomposition import PCA\n",
    "\n",
    "import matplotlib.pyplot as plt\n",
    "\n",
    "words=[\"dog\",\"cat\",\"fish\", \"whale\", \"bird\", \"eagle\", \"lion\", \"tiger\", \"cheetah\", \"elephant\", \"giraffe\", \"zebra\", \"kangaroo\", \"koala\", \"panda\", \"monkey\", \"gorilla\", \"chimpanzee\", \"orangutan\", ]\n",
    "\n",
    "X=[model[word] for word in words]\n",
    "\n",
    "#identify clusters of words in the word embeddings at high dimensions\n",
    "\n",
    "pca=PCA(n_components=2)\n",
    "\n",
    "X_pca=pca.fit_transform(X)\n",
    "\n",
    "plt.scatter(X_pca[:,0],X_pca[:,1])\n",
    "\n",
    "for i, word in enumerate(words):\n",
    "    plt.annotate(word, (X_pca[i,0],X_pca[i,1]))\n",
    "\n",
    "plt.show()"
   ]
  },
  {
   "cell_type": "code",
   "execution_count": null,
   "metadata": {},
   "outputs": [],
   "source": [
    "#repeat this process with your own set of 10-20 words. \n",
    "#Does the proximity between words and overall distances make sense? Work as a group and discuss your individual findings.\n",
    "\n",
    "\n"
   ]
  },
  {
   "cell_type": "code",
   "execution_count": null,
   "metadata": {},
   "outputs": [],
   "source": [
    "# repeat the process with a different pre-trained model and the same set of words. \n",
    "# What has changed in the embedding space? What might this have to do with the training data?\n",
    "twitter_model= gensim.downloader.load(\"glove-twitter-100\")\n"
   ]
  },
  {
   "cell_type": "markdown",
   "metadata": {},
   "source": [
    "Part 3: Embedding reddit posts"
   ]
  },
  {
   "cell_type": "code",
   "execution_count": null,
   "metadata": {},
   "outputs": [],
   "source": [
    "#read in uiuc csv\n",
    "uiuc=pd.read_csv(\"uiuc.csv\")\n",
    "mich=pd.read_csv(\"umich.csv\")\n",
    "\n",
    "#sample so we have even number of samples from each dataset\n",
    "mich=mich.sample(n=4725)\n",
    "\n",
    "#assign labels based on origin subreddit of comment\n",
    "uiuc['label']=1\n",
    "mich['label']=0\n",
    "\n",
    "#you will be working with the data csv for the rest of the question\n",
    "data=pd.concat([uiuc,mich])\n",
    "\n",
    "\n"
   ]
  },
  {
   "cell_type": "code",
   "execution_count": null,
   "metadata": {},
   "outputs": [],
   "source": [
    "#using the code from project 1, clean the text and create a bag of words representation of the text\n"
   ]
  },
  {
   "cell_type": "code",
   "execution_count": null,
   "metadata": {},
   "outputs": [],
   "source": [
    "#using the embedding code from last week, plot a pca of all posts in the subreddits data set\n",
    "\n",
    "#color by the \"label\" column to see if the two subreddits are separable in the embedding space\n",
    "\n",
    "# is there a clear separation between the two columns? "
   ]
  },
  {
   "cell_type": "code",
   "execution_count": 99,
   "metadata": {},
   "outputs": [
    {
     "data": {
      "image/png": "[encoded data removed]",
      "text/plain": [
       "<Figure size 640x480 with 1 Axes>"
      ]
     },
     "metadata": {},
     "output_type": "display_data"
    }
   ],
   "source": [
    "#here is a function to calculate the average embedding of a cleaned document\n",
    "import numpy as np\n",
    "#we can sum together all the embeddings to get a representation of all the concepts expressed in the document\n",
    "def avg_embedding(sentence, model):\n",
    "    words=sentence.split()\n",
    "    embeddings=[model[word] for word in words if word in model]\n",
    "    return np.mean(embeddings, axis=0)\n",
    "\n",
    "sentences=[\"i am running today\", \"i will jog tomorrow\", \"i ran yesterday\", \"i love drawing\", \"i adore painting\", \"i used to like pottery\"]\n",
    "\n",
    "#we can then calculate the average embedding of each sentence\n",
    "\n",
    "avg_embeddings=[avg_embedding(sentence, model) for sentence in sentences]\n",
    "\n",
    "#we can then plot the pca of these embeddings\n",
    "\n",
    "pca=PCA(n_components=2)\n",
    "\n",
    "X_pca=pca.fit_transform(avg_embeddings)\n",
    "\n",
    "plt.scatter(X_pca[:,0],X_pca[:,1])\n",
    "\n",
    "for i, sentence in enumerate(sentences):\n",
    "    plt.annotate(sentence, (X_pca[i,0],X_pca[i,1]))\n",
    "\n",
    "plt.show()"
   ]
  },
  {
   "cell_type": "code",
   "execution_count": null,
   "metadata": {},
   "outputs": [],
   "source": []
  },
  {
   "cell_type": "code",
   "execution_count": null,
   "metadata": {},
   "outputs": [],
   "source": [
    "\n",
    "#use this function to calculate the average embedding of each post in the dataset\n",
    "\n",
    "#plot the pca of the average embeddings, color by the \"label\" column\n",
    "\n",
    "#how is this plot different from the previous one?\n",
    "\n",
    "#is there clear separation? "
   ]
  },
  {
   "cell_type": "markdown",
   "metadata": {},
   "source": [
    "Part 4: HuggingFace and BERT"
   ]
  },
  {
   "cell_type": "code",
   "execution_count": null,
   "metadata": {},
   "outputs": [],
   "source": [
    "!pip install transformers"
   ]
  },
  {
   "cell_type": "code",
   "execution_count": 100,
   "metadata": {},
   "outputs": [
    {
     "data": {
      "application/vnd.jupyter.widget-view+json": {
       "model_id": "34092752016945d2b6545a2c98fc84da",
       "version_major": 2,
       "version_minor": 0
      },
      "text/plain": [
       "config.json:   0%|          | 0.00/949 [00:00<?, ?B/s]"
      ]
     },
     "metadata": {},
     "output_type": "display_data"
    },
    {
     "name": "stderr",
     "output_type": "stream",
     "text": [
      "c:\\Users\\lucia\\anaconda3\\Lib\\site-packages\\huggingface_hub\\file_download.py:148: UserWarning: `huggingface_hub` cache-system uses symlinks by default to efficiently store duplicated files but your machine does not support them in C:\\Users\\lucia\\.cache\\huggingface\\hub\\models--finiteautomata--bertweet-base-sentiment-analysis. Caching files will still work but in a degraded version that might require more space on your disk. This warning can be disabled by setting the `HF_HUB_DISABLE_SYMLINKS_WARNING` environment variable. For more details, see https://huggingface.co/docs/huggingface_hub/how-to-cache#limitations.\n",
      "To support symlinks on Windows, you either need to activate Developer Mode or to run Python as an administrator. In order to see activate developer mode, see this article: https://docs.microsoft.com/en-us/windows/apps/get-started/enable-your-device-for-development\n",
      "  warnings.warn(message)\n"
     ]
    },
    {
     "name": "stdout",
     "output_type": "stream",
     "text": [
      "WARNING:tensorflow:From c:\\Users\\lucia\\anaconda3\\Lib\\site-packages\\tf_keras\\src\\losses.py:2976: The name tf.losses.sparse_softmax_cross_entropy is deprecated. Please use tf.compat.v1.losses.sparse_softmax_cross_entropy instead.\n",
      "\n"
     ]
    },
    {
     "data": {
      "application/vnd.jupyter.widget-view+json": {
       "model_id": "cbe018bf44a94ae8bedf2dcd3a05f834",
       "version_major": 2,
       "version_minor": 0
      },
      "text/plain": [
       "pytorch_model.bin:   0%|          | 0.00/540M [00:00<?, ?B/s]"
      ]
     },
     "metadata": {},
     "output_type": "display_data"
    },
    {
     "data": {
      "application/vnd.jupyter.widget-view+json": {
       "model_id": "9279f56d663b4528bc0977deca0d8566",
       "version_major": 2,
       "version_minor": 0
      },
      "text/plain": [
       "tokenizer_config.json:   0%|          | 0.00/338 [00:00<?, ?B/s]"
      ]
     },
     "metadata": {},
     "output_type": "display_data"
    },
    {
     "data": {
      "application/vnd.jupyter.widget-view+json": {
       "model_id": "abe1de15e86f483fad44b20ec0672d52",
       "version_major": 2,
       "version_minor": 0
      },
      "text/plain": [
       "vocab.txt:   0%|          | 0.00/843k [00:00<?, ?B/s]"
      ]
     },
     "metadata": {},
     "output_type": "display_data"
    },
    {
     "data": {
      "application/vnd.jupyter.widget-view+json": {
       "model_id": "3b97044be3504c4f8f8b2d36c772dacb",
       "version_major": 2,
       "version_minor": 0
      },
      "text/plain": [
       "bpe.codes:   0%|          | 0.00/1.08M [00:00<?, ?B/s]"
      ]
     },
     "metadata": {},
     "output_type": "display_data"
    },
    {
     "data": {
      "application/vnd.jupyter.widget-view+json": {
       "model_id": "6a22c400aad74e5ebcadb1b9595c853e",
       "version_major": 2,
       "version_minor": 0
      },
      "text/plain": [
       "added_tokens.json:   0%|          | 0.00/22.0 [00:00<?, ?B/s]"
      ]
     },
     "metadata": {},
     "output_type": "display_data"
    },
    {
     "data": {
      "application/vnd.jupyter.widget-view+json": {
       "model_id": "52abf0656755450184831acc59256649",
       "version_major": 2,
       "version_minor": 0
      },
      "text/plain": [
       "special_tokens_map.json:   0%|          | 0.00/167 [00:00<?, ?B/s]"
      ]
     },
     "metadata": {},
     "output_type": "display_data"
    },
    {
     "name": "stderr",
     "output_type": "stream",
     "text": [
      "emoji is not installed, thus not converting emoticons or emojis into text. Install emoji: pip3 install emoji==0.6.0\n"
     ]
    }
   ],
   "source": [
    "#Please wait until after next week to start\n",
    "\n",
    "# Use a pipeline as a high-level helper\n",
    "from transformers import pipeline\n",
    "\n",
    "#download bert model\n",
    "pipe = pipeline(\"text-classification\", model=\"finiteautomata/bertweet-base-sentiment-analysis\")\n"
   ]
  },
  {
   "cell_type": "code",
   "execution_count": 101,
   "metadata": {},
   "outputs": [
    {
     "data": {
      "text/plain": [
       "[{'label': 'POS', 'score': 0.9923704862594604}]"
      ]
     },
     "execution_count": 101,
     "metadata": {},
     "output_type": "execute_result"
    }
   ],
   "source": [
    "#use the pipeline to classify the sentiment of a sentence of your choice\n",
    "pipe(\"I love this class\")"
   ]
  },
  {
   "cell_type": "code",
   "execution_count": null,
   "metadata": {},
   "outputs": [],
   "source": [
    "#use the pipeline to classify the sentiment of all posts in the reddit dataset\n",
    "#report the most common sentiment label"
   ]
  },
  {
   "cell_type": "code",
   "execution_count": null,
   "metadata": {},
   "outputs": [],
   "source": [
    "#look at ten sample posts and labels; do you agree with all of them? "
   ]
  },
  {
   "cell_type": "code",
   "execution_count": null,
   "metadata": {},
   "outputs": [],
   "source": [
    "#is the UIUC or Michigan subreddit more negative?"
   ]
  },
  {
   "cell_type": "code",
   "execution_count": null,
   "metadata": {},
   "outputs": [],
   "source": []
  }
 ],
 "metadata": {
  "kernelspec": {
   "display_name": "is310",
   "language": "python",
   "name": "python3"
  },
  "language_info": {
   "codemirror_mode": {
    "name": "ipython",
    "version": 3
   },
   "file_extension": ".py",
   "mimetype": "text/x-python",
   "name": "python",
   "nbconvert_exporter": "python",
   "pygments_lexer": "ipython3",
   "version": "3.9.19"
  }
 },
 "nbformat": 4,
 "nbformat_minor": 2
}
